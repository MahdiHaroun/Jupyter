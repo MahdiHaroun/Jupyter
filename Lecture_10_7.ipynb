{
 "cells": [
  {
   "cell_type": "code",
   "execution_count": 1,
   "metadata": {},
   "outputs": [
    {
     "name": "stdout",
     "output_type": "stream",
     "text": [
      "even= [2, 4, 6, 8]\n",
      "odd= [3, 5, 7]\n",
      "4\n",
      "3\n",
      "[-1]\n",
      "[-1, -4]\n",
      "[-1, -4]\n",
      "<class 'dict'>\n",
      "{'ez': 1, 'for': 4}\n"
     ]
    }
   ],
   "source": [
    "list = [2,3,4,5,6,7,8]\n",
    "even_L = [] \n",
    "odd_L = [] \n",
    "for i in list : \n",
    "   if i%2==0 : \n",
    "       even_L.append(i)\n",
    "   else :\n",
    "       odd_L.append(i)\n",
    "       \n",
    "       \n",
    "print (\"even=\" , even_L)\n",
    "print(\"odd=\",odd_L)\n",
    "print(len(even_L))\n",
    "print(len(odd_L))\n",
    "       \n",
    "def fun(a):\n",
    "   N_list = []\n",
    "   for i in a:\n",
    "       if i < 0:\n",
    "           N_list.append(i)\n",
    "           print(N_list)\n",
    "           \n",
    "   print(N_list)\n",
    "\n",
    "fun([-1, 2, -4, 5])\n",
    "\n",
    "\n",
    "\n",
    "\n",
    "dic = {\"ez\": 1 , \"for\": 4}\n",
    "print(type(dic))\n",
    "print(dic)"
   ]
  },
  {
   "cell_type": "code",
   "execution_count": 3,
   "metadata": {},
   "outputs": [
    {
     "data": {
      "text/plain": [
       "4"
      ]
     },
     "execution_count": 3,
     "metadata": {},
     "output_type": "execute_result"
    }
   ],
   "source": [
    "import numpy as np \n",
    "x = np.array ([-1.1, 0.0,3.6,-7.2])\n",
    "len (x)\n"
   ]
  },
  {
   "cell_type": "code",
   "execution_count": null,
   "metadata": {},
   "outputs": [],
   "source": [
    "import numpy as np \n",
    "x = np.array ([-1.1, 0.0,3.6,-7.2])\n",
    "x[2]"
   ]
  },
  {
   "cell_type": "code",
   "execution_count": null,
   "metadata": {},
   "outputs": [],
   "source": [
    "import numpy as np \n",
    "x = np.array ([-1.1, 0.0,3.6,-7.2])\n",
    "x[2] = 20 \n",
    "print(x)"
   ]
  },
  {
   "cell_type": "code",
   "execution_count": null,
   "metadata": {},
   "outputs": [],
   "source": [
    "import numpy as np \n",
    "x = np.array ([-1.1, 0.0,3.6,-7.2])\n",
    "x[-1]\n"
   ]
  },
  {
   "cell_type": "code",
   "execution_count": null,
   "metadata": {},
   "outputs": [],
   "source": [
    "import numpy as np \n",
    "x= np.array([-1.1,0.0,3.6,-7.2])\n",
    "y=x.copy() # using = will affect the both lists \n",
    "x[2] =20.0 \n",
    "print(y)"
   ]
  },
  {
   "cell_type": "code",
   "execution_count": null,
   "metadata": {},
   "outputs": [],
   "source": [
    "import numpy as np \n",
    "x= np.array([-1.1,0.0,3.6,-7.2])\n",
    "y=x.copy() # using = will affect the both lists \n",
    "x[2] =20.0 \n",
    "x==y  # new vector \" becuase of numpay\""
   ]
  },
  {
   "cell_type": "code",
   "execution_count": null,
   "metadata": {},
   "outputs": [],
   "source": [
    "import numpy as np \n",
    "x= np.array([-1, 2] ) \n",
    "y= np.array([1,1,0])\n",
    "z= np.concatenate((x,y))\n",
    "print(z)"
   ]
  },
  {
   "cell_type": "code",
   "execution_count": null,
   "metadata": {},
   "outputs": [],
   "source": [
    "import numpy as np \n",
    "x= np.array([1,13,34,44,55,66,77])\n",
    "y= x[1:4]\n",
    "x[3:6]=[100,200,300]\n",
    "print(y)\n",
    "print(x)\n"
   ]
  },
  {
   "cell_type": "code",
   "execution_count": 4,
   "metadata": {},
   "outputs": [
    {
     "name": "stdout",
     "output_type": "stream",
     "text": [
      "[ 7 -5 -1 -1  8 -2]\n"
     ]
    }
   ],
   "source": [
    "import numpy as np \n",
    "x=np.array([1,8,3,2,1,9,7])\n",
    "\n",
    "d=x[1:]-x[:-1]\n",
    "print(d)"
   ]
  },
  {
   "cell_type": "code",
   "execution_count": 5,
   "metadata": {},
   "outputs": [
    {
     "name": "stdout",
     "output_type": "stream",
     "text": [
      "[6, 5, 4, 3, 2, 1]\n"
     ]
    }
   ],
   "source": [
    "list = [1,2,3,4,5,6]\n",
    "list.reverse() \n",
    "print (list)\n"
   ]
  }
 ],
 "metadata": {
  "kernelspec": {
   "display_name": "Python 3",
   "language": "python",
   "name": "python3"
  },
  "language_info": {
   "codemirror_mode": {
    "name": "ipython",
    "version": 3
   },
   "file_extension": ".py",
   "mimetype": "text/x-python",
   "name": "python",
   "nbconvert_exporter": "python",
   "pygments_lexer": "ipython3",
   "version": "3.12.4"
  }
 },
 "nbformat": 4,
 "nbformat_minor": 2
}
